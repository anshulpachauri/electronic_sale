{
 "cells": [
  {
   "cell_type": "code",
   "execution_count": null,
   "id": "79f4b46b",
   "metadata": {},
   "outputs": [],
   "source": [
    "import pandas as pd  \n",
    "import os\n",
    "import warnings\n",
    "warnings.filterwarnings('ignore')"
   ]
  },
  {
   "cell_type": "markdown",
   "id": "7d6fb485",
   "metadata": {},
   "source": [
    "# Merging 12 months of sales data into a single file"
   ]
  },
  {
   "cell_type": "code",
   "execution_count": null,
   "id": "36236811",
   "metadata": {},
   "outputs": [],
   "source": [
    "df = pd.read_csv(\"./Sales_Data/Sales_April_2019.csv\")\n",
    "\n",
    "files = [file for file in os.listdir('./Sales_Data') ]\n",
    "\n",
    "all_months_data = pd.DataFrame()\n",
    "\n",
    "for file in files:\n",
    "    df = pd.read_csv(\"./Sales_Data/\"+file)\n",
    "    all_months_data = pd.concat([all_months_data, df])\n",
    "    \n",
    "all_months_data.to_csv(\"all_data.csv\", index= False)"
   ]
  },
  {
   "cell_type": "markdown",
   "id": "212e4e59",
   "metadata": {},
   "source": [
    "# Read in updated DataFrame"
   ]
  },
  {
   "cell_type": "code",
   "execution_count": null,
   "id": "91ed2ec8",
   "metadata": {},
   "outputs": [],
   "source": [
    "all_data = pd.read_csv(\"all_data.csv\")\n",
    "all_data.head() "
   ]
  },
  {
   "cell_type": "markdown",
   "id": "b0789ab7",
   "metadata": {},
   "source": [
    "# Cleaning Up the data "
   ]
  },
  {
   "cell_type": "markdown",
   "id": "7a219f81",
   "metadata": {},
   "source": [
    "### Drop Row NaN"
   ]
  },
  {
   "cell_type": "code",
   "execution_count": null,
   "id": "ff232bae",
   "metadata": {},
   "outputs": [],
   "source": [
    "nan_df = all_data[all_data.isna().any(axis=1)]\n",
    "nan_df"
   ]
  },
  {
   "cell_type": "code",
   "execution_count": null,
   "id": "a0a9513d",
   "metadata": {
    "scrolled": true
   },
   "outputs": [],
   "source": [
    "all_data = all_data.dropna(how='all')\n",
    "all_data"
   ]
  },
  {
   "cell_type": "markdown",
   "id": "b4b2fa7d",
   "metadata": {},
   "source": [
    "### Finding 'Or' and deleting it   "
   ]
  },
  {
   "cell_type": "code",
   "execution_count": null,
   "id": "3cf4ac36",
   "metadata": {},
   "outputs": [],
   "source": [
    "all_data = all_data[all_data['Order Date'].str[0:2] != 'Or']"
   ]
  },
  {
   "cell_type": "markdown",
   "id": "68285ad5",
   "metadata": {},
   "source": [
    "### Convert coloums to the currect type "
   ]
  },
  {
   "cell_type": "code",
   "execution_count": null,
   "id": "ea7bd040",
   "metadata": {},
   "outputs": [],
   "source": [
    "all_data['Quantity Ordered'] = pd.to_numeric(all_data['Quantity Ordered'])\n",
    "all_data['Price Each'] =pd.to_numeric(all_data['Price Each'])"
   ]
  },
  {
   "cell_type": "markdown",
   "id": "728928a8",
   "metadata": {},
   "source": [
    "# Augment data with additional Columns"
   ]
  },
  {
   "cell_type": "markdown",
   "id": "3bb89fb7",
   "metadata": {},
   "source": [
    "## Task 2: Add Month Column  "
   ]
  },
  {
   "cell_type": "code",
   "execution_count": null,
   "id": "0f327746",
   "metadata": {},
   "outputs": [],
   "source": [
    "all_data ['Month'] = all_data['Order Date'].str[0:2]\n",
    "all_data ['Month'] = all_data['Month'].astype('int32')\n",
    "all_data"
   ]
  },
  {
   "cell_type": "markdown",
   "id": "6eba0bb7",
   "metadata": {},
   "source": [
    "### Task3:  Add a sales Column "
   ]
  },
  {
   "cell_type": "code",
   "execution_count": null,
   "id": "b5d7fe44",
   "metadata": {},
   "outputs": [],
   "source": [
    "all_data ['Sales'] = all_data['Quantity Ordered']* all_data['Price Each']\n",
    "all_data"
   ]
  },
  {
   "cell_type": "markdown",
   "id": "244071f0",
   "metadata": {},
   "source": [
    "## Add a city colunm"
   ]
  },
  {
   "cell_type": "markdown",
   "id": "6143eb76",
   "metadata": {},
   "source": [
    "### lets us .apple() methord"
   ]
  },
  {
   "cell_type": "code",
   "execution_count": null,
   "id": "bd4d8e03",
   "metadata": {},
   "outputs": [],
   "source": [
    "def get_city (address):\n",
    "    return address.split(',')[1]\n",
    "\n",
    "def get_state(address):\n",
    "    return address.split(',')[2].split(' ')[1] \n",
    "\n",
    "#using F string  \n",
    "all_data['City'] = all_data['Purchase Address'].apply(lambda x: f\"{get_city(x)} ({get_state(x)})\")\n",
    "\n",
    "\n",
    "#all_data['city'] = all_data['Purchase Address'].apply(lambda x: get_city(x)+' ('+get_state(x)+')')\n",
    "\n",
    "    \n",
    "# all_data = all_data.drop(columns='Colunm')\n",
    "\n",
    "# \"without fution\"\n",
    "# all_data['Colunm'] = all_data['Purchase Address'].apply(lambda x: x.split(',')[1])\n",
    "\n",
    "all_data.head()"
   ]
  },
  {
   "cell_type": "markdown",
   "id": "fd3e6b93",
   "metadata": {},
   "source": [
    "### 1. what was the besh month for sales ? How much is earned that month?  "
   ]
  },
  {
   "cell_type": "code",
   "execution_count": null,
   "id": "53aa389a",
   "metadata": {},
   "outputs": [],
   "source": [
    "results = all_data.groupby('Month').sum()['Sales']"
   ]
  },
  {
   "cell_type": "code",
   "execution_count": null,
   "id": "aafb2ee3",
   "metadata": {},
   "outputs": [],
   "source": [
    "import matplotlib.pyplot as plt\n",
    "\n",
    "months = range(1,13)\n",
    "\n",
    "plt.bar(months, results)\n",
    "plt.xticks(months)\n",
    "plt.ylabel('Sales is US($)')\n",
    "plt.xlabel('Months')\n",
    "plt.show()"
   ]
  },
  {
   "cell_type": "markdown",
   "id": "a3cde444",
   "metadata": {},
   "source": [
    "### 2. Which city has a highest number of sales? "
   ]
  },
  {
   "cell_type": "code",
   "execution_count": null,
   "id": "495188b8",
   "metadata": {},
   "outputs": [],
   "source": [
    "results = all_data.groupby('City').sum()['Sales']\n",
    "results"
   ]
  },
  {
   "cell_type": "code",
   "execution_count": null,
   "id": "4cd3edb5",
   "metadata": {},
   "outputs": [],
   "source": [
    "import matplotlib.pyplot as plt\n",
    "cities = [city for city, df in all_data.groupby('City')]\n",
    "\n",
    "plt.bar(cities, results)\n",
    "plt.xticks(cities, rotation='vertical', size =8)\n",
    "plt.ylabel('Sales is US($)')\n",
    "plt.xlabel('US City Name')\n",
    "plt.show()"
   ]
  },
  {
   "cell_type": "markdown",
   "id": "078df400",
   "metadata": {},
   "source": [
    "### 3. What time should we display advertisements to maximize the likelihood of customers buying products?"
   ]
  },
  {
   "cell_type": "code",
   "execution_count": null,
   "id": "2d5c4e7c",
   "metadata": {},
   "outputs": [],
   "source": [
    "all_data['Order Date'] = pd.to_datetime(all_data['Order Date'])"
   ]
  },
  {
   "cell_type": "code",
   "execution_count": null,
   "id": "72d90a15",
   "metadata": {},
   "outputs": [],
   "source": [
    "all_data['Hour'] = all_data['Order Date'].dt.hour\n",
    "all_data['Minute'] = all_data['Order Date'].dt.minute\n",
    "all_data.head()"
   ]
  },
  {
   "cell_type": "code",
   "execution_count": null,
   "id": "cf38de18",
   "metadata": {},
   "outputs": [],
   "source": [
    "hours = [hour for hour, df in all_data.groupby('Hour')]\n",
    "\n",
    "plt.plot(hours, all_data.groupby(['Hour']).count())\n",
    "\n",
    "all_data.groupby(['Hour']).count()\n",
    "plt.xticks(hours)\n",
    "plt.xlabel('Hours')\n",
    "plt.ylabel('Number of Orders')\n",
    "plt.grid()\n",
    "plt.show()"
   ]
  },
  {
   "cell_type": "markdown",
   "id": "6deab0e2",
   "metadata": {},
   "source": [
    "###  4. What products are most often sold together?"
   ]
  },
  {
   "cell_type": "code",
   "execution_count": null,
   "id": "dad3ee36",
   "metadata": {},
   "outputs": [],
   "source": [
    "df = all_data[all_data['Order ID'].duplicated(keep = False)]\n",
    "\n",
    "df['Grouped'] = df.groupby('Order ID')['Product'].transform(lambda x:','.join(x))\n",
    "\n",
    "df = df[['Order ID', 'Grouped']].drop_duplicates()\n",
    "\n",
    "df.head()"
   ]
  },
  {
   "cell_type": "code",
   "execution_count": null,
   "id": "23add8c4",
   "metadata": {},
   "outputs": [],
   "source": [
    "from itertools import combinations\n",
    "from collections import Counter\n",
    "\n",
    "count = Counter()\n",
    "\n",
    "for row in df['Grouped']:\n",
    "    row_list = row.split(',')\n",
    "    count.update(Counter(combinations(row_list, 2)))\n",
    "\n",
    "for key, value in count.most_common(5):\n",
    "    print (key, value)"
   ]
  },
  {
   "cell_type": "markdown",
   "id": "a777c4a3",
   "metadata": {},
   "source": [
    "### 5. What product sold the most? Why do you think it sold the most?"
   ]
  },
  {
   "cell_type": "code",
   "execution_count": null,
   "id": "0ad6bcaf",
   "metadata": {},
   "outputs": [],
   "source": [
    "product_group = all_data.groupby('Product')\n",
    "\n",
    "sum_by_product = product_group['Quantity Ordered'].sum()"
   ]
  },
  {
   "cell_type": "code",
   "execution_count": null,
   "id": "0226e959",
   "metadata": {},
   "outputs": [],
   "source": [
    "sum_by_product"
   ]
  },
  {
   "cell_type": "code",
   "execution_count": null,
   "id": "5286873c",
   "metadata": {},
   "outputs": [],
   "source": [
    "all_data['Quantity Ordered'] = pd.to_numeric(all_data['Quantity Ordered'])"
   ]
  },
  {
   "cell_type": "code",
   "execution_count": null,
   "id": "ca0f1f27",
   "metadata": {},
   "outputs": [],
   "source": [
    "product_group = all_data.groupby('Product')\n",
    "quantity_ordered = product_group['Quantity Ordered'].sum()\n",
    "\n",
    "plt.bar(quantity_ordered.index, quantity_ordered.values)\n",
    "plt.xlabel('Product')\n",
    "plt.ylabel('Quantity Ordered')\n",
    "plt.title('Total Quantity Ordered for Each Product')\n",
    "plt.xticks(rotation='vertical')\n",
    "plt.show()"
   ]
  },
  {
   "cell_type": "code",
   "execution_count": null,
   "id": "5705a9a9",
   "metadata": {},
   "outputs": [],
   "source": [
    "all_data['Price Each'] = pd.to_numeric(all_data['Price Each'], errors='coerce')\n",
    "price = all_data.groupby('Product')['Price Each'].mean()\n",
    "print(price)"
   ]
  },
  {
   "cell_type": "code",
   "execution_count": null,
   "id": "f3d14826",
   "metadata": {},
   "outputs": [],
   "source": [
    "# Assuming 'Price Each' column needs to be converted to numeric\n",
    "all_data['Price Each'] = pd.to_numeric(all_data['Price Each'], errors='coerce')\n",
    "\n",
    "# Assuming 'Product' and 'Quantity Ordered' columns are present in your DataFrame\n",
    "quantity_ordered = all_data.groupby('Product')['Quantity Ordered'].sum()\n",
    "prices = all_data.groupby('Product')['Price Each'].mean()\n",
    "\n",
    "# Plotting\n",
    "fig, ax1 = plt.subplots()\n",
    "\n",
    "ax2 = ax1.twinx()\n",
    "ax1.bar(quantity_ordered.index, quantity_ordered, color='y')\n",
    "ax2.plot(prices.index, prices, color='b')\n",
    "\n",
    "ax1.set_xlabel('Product Name')\n",
    "ax1.set_ylabel('Quantity Ordered', color='y')\n",
    "ax2.set_ylabel('Price ($)', color='b')\n",
    "ax1.set_xticklabels(quantity_ordered.index, rotation='vertical', size=8)\n",
    "\n",
    "plt.show()\n"
   ]
  },
  {
   "cell_type": "code",
   "execution_count": null,
   "id": "6efde2da",
   "metadata": {},
   "outputs": [],
   "source": []
  }
 ],
 "metadata": {
  "kernelspec": {
   "display_name": "Python 3 (ipykernel)",
   "language": "python",
   "name": "python3"
  },
  "language_info": {
   "codemirror_mode": {
    "name": "ipython",
    "version": 3
   },
   "file_extension": ".py",
   "mimetype": "text/x-python",
   "name": "python",
   "nbconvert_exporter": "python",
   "pygments_lexer": "ipython3",
   "version": "3.11.5"
  }
 },
 "nbformat": 4,
 "nbformat_minor": 5
}
